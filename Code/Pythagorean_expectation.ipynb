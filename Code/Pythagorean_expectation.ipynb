{
 "cells": [
  {
   "cell_type": "code",
   "execution_count": 1,
   "metadata": {},
   "outputs": [],
   "source": [
    "import pandas as pd"
   ]
  },
  {
   "cell_type": "code",
   "execution_count": 21,
   "metadata": {},
   "outputs": [],
   "source": [
    "teamrank_df = pd.read_csv('kbo_teamrank_2001_2023.csv')\n",
    "hitter_df = pd.read_csv('kbo_hitter_2001_2023.csv')\n",
    "pitcher_df = pd.read_csv('kbo_pitcher_2001_2023.csv')\n",
    "\n",
    "hitter_df = hitter_df.drop(columns=['순위']).rename(columns={'R': '득점'})\n",
    "pitcher_df = pitcher_df.drop(columns=['순위']).rename(columns={'R': '실점'})\n",
    "\n",
    "merged_df = pd.merge(teamrank_df, hitter_df, on=['Year', '팀명'], how='outer')\n",
    "merged_df = pd.merge(merged_df, pitcher_df, on=['Year', '팀명'], how='outer')\n",
    "\n",
    "merged_df_columns = ['Year', '순위', '팀명', '경기', '승', '패', '무', '승률', '게임차', '득점', '실점']\n",
    "merged_df = merged_df[merged_df_columns]\n",
    "\n",
    "merged_df.to_csv('sampledata.csv', index=False)"
   ]
  },
  {
   "cell_type": "code",
   "execution_count": 23,
   "metadata": {},
   "outputs": [],
   "source": [
    "df = pd.read_csv('sampledata.csv')\n",
    "\n",
    "def calculate_pythagorean_win_rate(row, n=1.83):\n",
    "    try:\n",
    "        runs_scored = float(row['득점'])\n",
    "        runs_allowed = float(row['실점'])\n",
    "        win_rate = (runs_scored ** n) / ((runs_scored ** n) + (runs_allowed ** n))\n",
    "        return win_rate\n",
    "    except ZeroDivisionError:\n",
    "        return None\n",
    "    except ValueError:\n",
    "        return None\n",
    "\n",
    "df['피타고리안승률'] = df.apply(calculate_pythagorean_win_rate, axis=1).round(4)\n",
    "df['승률차'] = (df['승률'] - df['피타고리안승률']).round(4)\n",
    "df['기대순위'] = df.groupby('Year')['피타고리안승률'].rank(ascending=False, method='min').astype(int)\n",
    "df['기대순위-실제순위'] = df['기대순위'] - df['순위'].astype(int)\n",
    "\n",
    "df.to_csv('pythagorean_wins.csv', index=False)"
   ]
  }
 ],
 "metadata": {
  "kernelspec": {
   "display_name": "Python 3",
   "language": "python",
   "name": "python3"
  },
  "language_info": {
   "codemirror_mode": {
    "name": "ipython",
    "version": 3
   },
   "file_extension": ".py",
   "mimetype": "text/x-python",
   "name": "python",
   "nbconvert_exporter": "python",
   "pygments_lexer": "ipython3",
   "version": "3.11.5"
  }
 },
 "nbformat": 4,
 "nbformat_minor": 2
}
